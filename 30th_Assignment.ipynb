{
 "cells": [
  {
   "cell_type": "code",
   "execution_count": 1,
   "id": "71f181b4-13d8-4cdf-b9e3-81fb03eae894",
   "metadata": {},
   "outputs": [],
   "source": [
    "##Answers1:"
   ]
  },
  {
   "cell_type": "code",
   "execution_count": 4,
   "id": "6e411d67-1165-4bcf-bbc7-12bbb2bc3e4f",
   "metadata": {},
   "outputs": [
    {
     "name": "stdin",
     "output_type": "stream",
     "text": [
      "Enter the percentage :  90.1\n"
     ]
    },
    {
     "name": "stdout",
     "output_type": "stream",
     "text": [
      "Grade : A\n"
     ]
    }
   ],
   "source": [
    "num = float(input(\"Enter the percentage : \"))\n",
    "if num > 90:\n",
    "    print(\"Grade : A\")\n",
    "elif num > 80 and num <= 90:\n",
    "    print(\"Grade : B\")\n",
    "elif num >= 60 and num <= 80:\n",
    "    print(\"Grade : C\")\n",
    "else:\n",
    "    print(\"Grade : D\")"
   ]
  },
  {
   "cell_type": "code",
   "execution_count": 5,
   "id": "b433ee3b-049c-4368-aa57-1acd040745a6",
   "metadata": {},
   "outputs": [],
   "source": [
    "##Answer2:"
   ]
  },
  {
   "cell_type": "code",
   "execution_count": 14,
   "id": "cce00418-f949-4884-a5a4-6bd93785a8be",
   "metadata": {},
   "outputs": [
    {
     "name": "stdin",
     "output_type": "stream",
     "text": [
      "Enter the bike price :  65000\n"
     ]
    },
    {
     "name": "stdout",
     "output_type": "stream",
     "text": [
      "road tax will be 10%\n",
      "Road Tax which have to be paid :  6500.0\n"
     ]
    }
   ],
   "source": [
    "price = float(input(\"Enter the bike price : \"))\n",
    "tax = 0\n",
    "if price > 100000:\n",
    "    print(\"road tax will be 15%\")\n",
    "    tax = ((15/100)*price)\n",
    "    print(\"Road Tax which have to be paid : \", tax)\n",
    "elif price > 50000 and price <= 100000:\n",
    "    print(\"road tax will be 10%\")\n",
    "    tax = ((10/100)*price)\n",
    "    print(\"Road Tax which have to be paid : \", tax)\n",
    "elif price <= 50000:\n",
    "    print(\"road tax will be 5%\")\n",
    "    tax = ((5/100)*price)\n",
    "    print(\"Road Tax which have to be paid : \", tax)\n",
    "    "
   ]
  },
  {
   "cell_type": "code",
   "execution_count": 15,
   "id": "ca858f6d-01d0-4c67-b675-4eb201acf427",
   "metadata": {},
   "outputs": [],
   "source": [
    "##Answer3:"
   ]
  },
  {
   "cell_type": "code",
   "execution_count": 24,
   "id": "4c0cd237-24e0-42c4-8611-1e39775971e3",
   "metadata": {},
   "outputs": [
    {
     "name": "stdin",
     "output_type": "stream",
     "text": [
      "Enter the city name : Delhi\n"
     ]
    },
    {
     "name": "stdout",
     "output_type": "stream",
     "text": [
      "Red Fort\n"
     ]
    }
   ],
   "source": [
    "city = input(\"Enter the city name :\")\n",
    "if city == \"Delhi\":\n",
    "    print(\"Red Fort\")\n",
    "elif city == \"Agra\":\n",
    "    print(\"Taj Mahal\")\n",
    "elif city == \"Jaipur\":\n",
    "    print(\"Jal Mahal\")"
   ]
  },
  {
   "cell_type": "code",
   "execution_count": 4,
   "id": "dd51ca4a-da76-4908-a826-4bd1098b51c4",
   "metadata": {},
   "outputs": [],
   "source": [
    "##Answer7 and 8:"
   ]
  },
  {
   "cell_type": "code",
   "execution_count": 3,
   "id": "9efeb0ad-4bdf-4fea-ad6d-2cbe6fb8e06d",
   "metadata": {},
   "outputs": [
    {
     "name": "stdout",
     "output_type": "stream",
     "text": [
      "10\n",
      "9\n",
      "8\n",
      "7\n",
      "6\n",
      "5\n",
      "4\n",
      "3\n",
      "2\n",
      "1\n"
     ]
    }
   ],
   "source": [
    "i=10\n",
    "while i<= 10 and i>=1:\n",
    "    print (i)\n",
    "    i = i-1"
   ]
  },
  {
   "cell_type": "code",
   "execution_count": 6,
   "id": "83a505eb-0801-4660-884b-fa3e4233804d",
   "metadata": {},
   "outputs": [],
   "source": [
    "##Answer6 :"
   ]
  },
  {
   "cell_type": "code",
   "execution_count": 7,
   "id": "4400016c-52e6-481b-a4d2-248428893291",
   "metadata": {},
   "outputs": [
    {
     "name": "stdout",
     "output_type": "stream",
     "text": [
      "*\n",
      "**\n",
      "***\n",
      "****\n",
      "*****\n"
     ]
    }
   ],
   "source": [
    "i = 1\n",
    "while i <= 5:\n",
    "    j = 1\n",
    "    while j <= i:\n",
    "        print(\"*\", end=\"\")\n",
    "        j = j + 1\n",
    "    print()\n",
    "    i = i + 1"
   ]
  },
  {
   "cell_type": "code",
   "execution_count": 8,
   "id": "e6a1fad3-06dd-4c88-81c4-197e4d70b244",
   "metadata": {},
   "outputs": [
    {
     "name": "stdout",
     "output_type": "stream",
     "text": [
      "1\n",
      "12\n",
      "123\n",
      "1234\n",
      "12345\n"
     ]
    }
   ],
   "source": [
    "i = 1\n",
    "while i <= 5:\n",
    "    j = 1\n",
    "    while j <= i:\n",
    "        print(j, end=\"\")\n",
    "        j = j + 1\n",
    "    print()\n",
    "    i = i + 1"
   ]
  },
  {
   "cell_type": "code",
   "execution_count": 11,
   "id": "0bd77a87-3c85-4211-890c-49a3464cc4ba",
   "metadata": {},
   "outputs": [
    {
     "name": "stdout",
     "output_type": "stream",
     "text": [
      "*****\n",
      "****\n",
      "***\n",
      "**\n",
      "*\n"
     ]
    }
   ],
   "source": [
    "n = 5\n",
    "i = 1\n",
    "while i <= n:\n",
    "    j = 1\n",
    "    while j <= n - i + 1:\n",
    "        print(\"*\", end=\"\")\n",
    "        j = j + 1\n",
    "    print()\n",
    "    i = i + 1"
   ]
  },
  {
   "cell_type": "code",
   "execution_count": null,
   "id": "e5b51f76-6bd4-4976-bbb5-30f7975a3d0e",
   "metadata": {},
   "outputs": [],
   "source": [
    "##Answer5 :\n",
    "\n",
    "\"While Loop initially check the condition which must be true to execute the loop\"\n",
    "\n",
    "count = int(input())\n",
    "while count <= 10: #if this condition false then while loop doesn't initiate.\n",
    "    print(count)\n",
    "    count = count+1\n"
   ]
  },
  {
   "cell_type": "code",
   "execution_count": null,
   "id": "434417d6-06b7-4126-8b3e-d9fde548acde",
   "metadata": {},
   "outputs": [],
   "source": []
  }
 ],
 "metadata": {
  "kernelspec": {
   "display_name": "Python 3 (ipykernel)",
   "language": "python",
   "name": "python3"
  },
  "language_info": {
   "codemirror_mode": {
    "name": "ipython",
    "version": 3
   },
   "file_extension": ".py",
   "mimetype": "text/x-python",
   "name": "python",
   "nbconvert_exporter": "python",
   "pygments_lexer": "ipython3",
   "version": "3.10.8"
  }
 },
 "nbformat": 4,
 "nbformat_minor": 5
}
