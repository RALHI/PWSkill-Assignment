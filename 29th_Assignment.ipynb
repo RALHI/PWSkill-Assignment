{
 "cells": [
  {
   "cell_type": "code",
   "execution_count": null,
   "id": "01f730cd-8050-4c24-a010-8ddbe9a63314",
   "metadata": {},
   "outputs": [],
   "source": [
    "1. Guido van Rossum\n",
    "2. Oops and Structured Programming\n",
    "3. Yes Pythin is Case Sensitive\n",
    "4. Extention of python file is .py\n",
    "5. Python code interpreted\n",
    "6. Indentation can define the block of codes in python.\n",
    "7. ## - symbols define the single line comment in python\n",
    "8. pythin_version()\n",
    "9. Lambda\n",
    "10.Preferred installer program\n",
    "11.Few build in functions in python:\n",
    "    index()\n",
    "    sum()\n",
    "    len()\n",
    "    value()\n",
    "    intem()\n",
    "    count()\n",
    "    rev() etc.\n",
    "12.An identifier can have a maximum length of 79 characters in Python.\n",
    "13.Benefits of using python:\n",
    "    Portability\n",
    "    Increased Productivity\n",
    "    Interpreted Language\n",
    "    Extensive Library\n",
    "14.Python involves a private heap containing all Python objects and data structures\n",
    "15. a) Install the python.exe file from the python.org website\n",
    "    b) This PC -> Properties -> Advance Setting -> Environment Variable -> System Variable -> set the path by entering the new one accordingly.\n",
    "\n",
    "16. Identation is must and most important to work with the python language\n",
    "    \n"
   ]
  },
  {
   "cell_type": "code",
   "execution_count": null,
   "id": "4512965e-0a00-4f71-834a-4ef9b5a4aa7d",
   "metadata": {},
   "outputs": [],
   "source": []
  }
 ],
 "metadata": {
  "kernelspec": {
   "display_name": "Python 3 (ipykernel)",
   "language": "python",
   "name": "python3"
  },
  "language_info": {
   "codemirror_mode": {
    "name": "ipython",
    "version": 3
   },
   "file_extension": ".py",
   "mimetype": "text/x-python",
   "name": "python",
   "nbconvert_exporter": "python",
   "pygments_lexer": "ipython3",
   "version": "3.10.6"
  }
 },
 "nbformat": 4,
 "nbformat_minor": 5
}
