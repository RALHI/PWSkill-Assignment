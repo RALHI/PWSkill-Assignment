{
 "cells": [
  {
   "cell_type": "code",
   "execution_count": 1,
   "id": "9f3bc1a1-942c-4906-8f83-51d8a54d16e4",
   "metadata": {},
   "outputs": [],
   "source": [
    "##Answer 1:"
   ]
  },
  {
   "cell_type": "code",
   "execution_count": 2,
   "id": "288bd5fe-b169-4927-9100-0a2232b42097",
   "metadata": {},
   "outputs": [],
   "source": [
    "## def is the keyword which is used to create the funtion."
   ]
  },
  {
   "cell_type": "code",
   "execution_count": 81,
   "id": "7233ebd0-8754-4daf-80df-f1c9f532621a",
   "metadata": {},
   "outputs": [],
   "source": [
    "result = []\n",
    "def odd_num(a,b):\n",
    "    for i in range(a,b):\n",
    "        if i%2 != 0:\n",
    "            result.append(i)\n",
    "    return result\n",
    "    "
   ]
  },
  {
   "cell_type": "code",
   "execution_count": 82,
   "id": "c74ebfe4-e0ce-4535-a4ed-9d74b5953827",
   "metadata": {},
   "outputs": [
    {
     "data": {
      "text/plain": [
       "[1, 3, 5, 7, 9, 11, 13, 15, 17, 19, 21, 23, 25]"
      ]
     },
     "execution_count": 82,
     "metadata": {},
     "output_type": "execute_result"
    }
   ],
   "source": [
    "odd_num(1,26)"
   ]
  },
  {
   "cell_type": "code",
   "execution_count": 83,
   "id": "b74fb71b-f65b-4441-8c93-da6d8a01b392",
   "metadata": {},
   "outputs": [],
   "source": [
    "##Answer 2:"
   ]
  },
  {
   "cell_type": "code",
   "execution_count": 85,
   "id": "db976a21-bc45-46ad-88f4-2274a2fb735a",
   "metadata": {},
   "outputs": [],
   "source": [
    "### *args -> this is used to make the function dynamic, through this we can give n numbers of arguments in the function.\n",
    "### **kwargs -> this is used to give the arguments with in the function as the key and value pair.\n"
   ]
  },
  {
   "cell_type": "code",
   "execution_count": 100,
   "id": "e56c037b-3b29-4e49-9e7e-6d4f8f1178e0",
   "metadata": {},
   "outputs": [],
   "source": [
    "def test1(*args):\n",
    "    return args\n",
    "    "
   ]
  },
  {
   "cell_type": "code",
   "execution_count": 101,
   "id": "163b0db6-b287-4e38-af9a-61dd88e0c179",
   "metadata": {},
   "outputs": [],
   "source": [
    "l = list(test1(2,3,4,5,6))"
   ]
  },
  {
   "cell_type": "code",
   "execution_count": 102,
   "id": "aea7b14a-2c6e-49e1-8cb6-6733ba7250ee",
   "metadata": {},
   "outputs": [
    {
     "data": {
      "text/plain": [
       "[2, 3, 4, 5, 6]"
      ]
     },
     "execution_count": 102,
     "metadata": {},
     "output_type": "execute_result"
    }
   ],
   "source": [
    "l"
   ]
  },
  {
   "cell_type": "code",
   "execution_count": 103,
   "id": "66e1ba21-b61a-4a6d-ac45-0ac2a0369967",
   "metadata": {},
   "outputs": [],
   "source": [
    "def test2(**kwargs):\n",
    "    return kwargs"
   ]
  },
  {
   "cell_type": "code",
   "execution_count": 106,
   "id": "7fabba75-5db5-40e0-b74a-67f9a8786eba",
   "metadata": {},
   "outputs": [],
   "source": [
    "l2 = test2(a=2,b=3,c=\"shashank\")"
   ]
  },
  {
   "cell_type": "code",
   "execution_count": 107,
   "id": "f5e89e3a-59bc-499c-89ab-3f0aa3835085",
   "metadata": {},
   "outputs": [
    {
     "data": {
      "text/plain": [
       "{'a': 2, 'b': 3, 'c': 'shashank'}"
      ]
     },
     "execution_count": 107,
     "metadata": {},
     "output_type": "execute_result"
    }
   ],
   "source": [
    "l2"
   ]
  },
  {
   "cell_type": "code",
   "execution_count": 109,
   "id": "b2f9a254-d314-49dc-ab42-2fed7c73cc76",
   "metadata": {},
   "outputs": [],
   "source": [
    "##Answer 4:"
   ]
  },
  {
   "cell_type": "code",
   "execution_count": 124,
   "id": "9175dd5c-c12c-4a85-9be7-338e719d8ab1",
   "metadata": {},
   "outputs": [],
   "source": [
    "## Generator Function is ths normal function which return the value with the yield key word rather than return key world.\n",
    "## Yield keyword is used when we want to iterate over a sequence, but don’t want to store the entire sequence in memory. "
   ]
  },
  {
   "cell_type": "code",
   "execution_count": 125,
   "id": "e5e56b82-dfae-4790-a90b-55c308624533",
   "metadata": {},
   "outputs": [],
   "source": [
    "def generator_fn():\n",
    "    yield \"shashank\""
   ]
  },
  {
   "cell_type": "code",
   "execution_count": 127,
   "id": "94c94adc-d689-45f9-9458-984947b8ee0e",
   "metadata": {},
   "outputs": [
    {
     "name": "stdout",
     "output_type": "stream",
     "text": [
      "shashank\n"
     ]
    }
   ],
   "source": [
    "for value in generator_fn():\n",
    "    print(value)"
   ]
  },
  {
   "cell_type": "code",
   "execution_count": 128,
   "id": "d1c4920f-4fdc-433f-b841-e053fe914943",
   "metadata": {},
   "outputs": [],
   "source": [
    "##Answer 5:"
   ]
  },
  {
   "cell_type": "code",
   "execution_count": 129,
   "id": "1aa952b3-f4cd-4e49-96a1-cf27309deca0",
   "metadata": {},
   "outputs": [],
   "source": [
    "def prim_num(a,b):\n",
    "    for i in range(a,b):\n",
    "        if i%2 == 0:\n",
    "            yield i\n",
    "    "
   ]
  },
  {
   "cell_type": "code",
   "execution_count": 133,
   "id": "089b774c-ff1c-4312-b592-1bd2858c18dc",
   "metadata": {},
   "outputs": [
    {
     "name": "stdout",
     "output_type": "stream",
     "text": [
      "2\n",
      "4\n",
      "6\n",
      "8\n"
     ]
    }
   ],
   "source": [
    "for value in prim_num(1,10):\n",
    "    print(value)"
   ]
  },
  {
   "cell_type": "code",
   "execution_count": 136,
   "id": "788118a8-6537-413c-bd67-9f18f9930099",
   "metadata": {},
   "outputs": [],
   "source": [
    "##Answer 6:"
   ]
  },
  {
   "cell_type": "code",
   "execution_count": 123,
   "id": "723a3c7d-c0ec-4b5a-a331-4ab28f5debbf",
   "metadata": {},
   "outputs": [
    {
     "name": "stdin",
     "output_type": "stream",
     "text": [
      "Enter your input 10\n"
     ]
    },
    {
     "name": "stdout",
     "output_type": "stream",
     "text": [
      "0\n",
      "1\n",
      "1\n",
      "2\n",
      "3\n",
      "5\n",
      "8\n",
      "13\n",
      "21\n",
      "34\n"
     ]
    }
   ],
   "source": [
    "num = int(input(\"Enter your input\"))\n",
    "a , b = 0, 1\n",
    "counter = 0\n",
    "\n",
    "while counter < num:\n",
    "    print (a)\n",
    "    c = a + b\n",
    "    a = b\n",
    "    b = c\n",
    "    counter = counter + 1"
   ]
  },
  {
   "cell_type": "code",
   "execution_count": 111,
   "id": "0f88bdea-e25d-4e4d-be72-cd3051413845",
   "metadata": {},
   "outputs": [],
   "source": [
    "#Answer 7:"
   ]
  },
  {
   "cell_type": "code",
   "execution_count": 112,
   "id": "3702d0bf-381e-48be-b0ac-19a8bd69d8b4",
   "metadata": {},
   "outputs": [],
   "source": [
    "s = \"pwskills\""
   ]
  },
  {
   "cell_type": "code",
   "execution_count": 113,
   "id": "2041c5be-3e51-47e5-a3b6-a87dce8b9195",
   "metadata": {},
   "outputs": [],
   "source": [
    "l = []\n",
    "l.extend(s)"
   ]
  },
  {
   "cell_type": "code",
   "execution_count": 114,
   "id": "e363937b-c47e-400b-99f7-b206c8d47b46",
   "metadata": {},
   "outputs": [
    {
     "data": {
      "text/plain": [
       "['p', 'w', 's', 'k', 'i', 'l', 'l', 's']"
      ]
     },
     "execution_count": 114,
     "metadata": {},
     "output_type": "execute_result"
    }
   ],
   "source": [
    "l"
   ]
  },
  {
   "cell_type": "code",
   "execution_count": 115,
   "id": "3dd46316-6ae6-45e6-b3ff-27b29e25b289",
   "metadata": {},
   "outputs": [],
   "source": [
    "#Answer 9:"
   ]
  },
  {
   "cell_type": "code",
   "execution_count": 118,
   "id": "cd464863-c70f-4046-ae5d-8935c5145f47",
   "metadata": {},
   "outputs": [
    {
     "data": {
      "text/plain": [
       "[1,\n",
       " 3,\n",
       " 5,\n",
       " 7,\n",
       " 9,\n",
       " 11,\n",
       " 13,\n",
       " 15,\n",
       " 17,\n",
       " 19,\n",
       " 21,\n",
       " 23,\n",
       " 25,\n",
       " 27,\n",
       " 29,\n",
       " 31,\n",
       " 33,\n",
       " 35,\n",
       " 37,\n",
       " 39,\n",
       " 41,\n",
       " 43,\n",
       " 45,\n",
       " 47,\n",
       " 49,\n",
       " 51,\n",
       " 53,\n",
       " 55,\n",
       " 57,\n",
       " 59,\n",
       " 61,\n",
       " 63,\n",
       " 65,\n",
       " 67,\n",
       " 69,\n",
       " 71,\n",
       " 73,\n",
       " 75,\n",
       " 77,\n",
       " 79,\n",
       " 81,\n",
       " 83,\n",
       " 85,\n",
       " 87,\n",
       " 89,\n",
       " 91,\n",
       " 93,\n",
       " 95,\n",
       " 97,\n",
       " 99]"
      ]
     },
     "execution_count": 118,
     "metadata": {},
     "output_type": "execute_result"
    }
   ],
   "source": [
    "[i for i in range(1,100) if i%2 !=0 ]"
   ]
  },
  {
   "cell_type": "code",
   "execution_count": 119,
   "id": "a73f1838-9519-4e49-8b8c-548a52e5d67b",
   "metadata": {},
   "outputs": [],
   "source": [
    "##Answer 8:"
   ]
  },
  {
   "cell_type": "code",
   "execution_count": 121,
   "id": "c3796f4a-ce0d-4aef-96eb-60fd34464201",
   "metadata": {},
   "outputs": [
    {
     "name": "stdin",
     "output_type": "stream",
     "text": [
      "Enter a number: 99\n"
     ]
    },
    {
     "name": "stdout",
     "output_type": "stream",
     "text": [
      "The number is palindrome!\n"
     ]
    }
   ],
   "source": [
    "num=int(input(\"Enter a number:\"))\n",
    "temp=num\n",
    "rev=0\n",
    "while(num>0):\n",
    "    dig=num%10\n",
    "    rev=rev*10+dig\n",
    "    num=num//10\n",
    "if(temp==rev):\n",
    "    print(\"The number is palindrome!\")\n",
    "else:\n",
    "    print(\"Not a palindrome!\")"
   ]
  },
  {
   "cell_type": "code",
   "execution_count": null,
   "id": "718cf905-992b-4ce5-b569-3f623f8a3046",
   "metadata": {},
   "outputs": [],
   "source": []
  }
 ],
 "metadata": {
  "kernelspec": {
   "display_name": "Python 3 (ipykernel)",
   "language": "python",
   "name": "python3"
  },
  "language_info": {
   "codemirror_mode": {
    "name": "ipython",
    "version": 3
   },
   "file_extension": ".py",
   "mimetype": "text/x-python",
   "name": "python",
   "nbconvert_exporter": "python",
   "pygments_lexer": "ipython3",
   "version": "3.10.8"
  }
 },
 "nbformat": 4,
 "nbformat_minor": 5
}
